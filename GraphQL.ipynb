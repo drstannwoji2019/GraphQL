{
  "nbformat": 4,
  "nbformat_minor": 0,
  "metadata": {
    "colab": {
      "provenance": [],
      "authorship_tag": "ABX9TyMyQxVWrukU/jH9dfdvbYWb",
      "include_colab_link": true
    },
    "kernelspec": {
      "name": "python3",
      "display_name": "Python 3"
    },
    "language_info": {
      "name": "python"
    }
  },
  "cells": [
    {
      "cell_type": "markdown",
      "metadata": {
        "id": "view-in-github",
        "colab_type": "text"
      },
      "source": [
        "<a href=\"https://colab.research.google.com/github/drstannwoji2019/GraphQL/blob/main/GraphQL.ipynb\" target=\"_parent\"><img src=\"https://colab.research.google.com/assets/colab-badge.svg\" alt=\"Open In Colab\"/></a>"
      ]
    },
    {
      "cell_type": "code",
      "execution_count": 5,
      "metadata": {
        "colab": {
          "base_uri": "https://localhost:8080/"
        },
        "id": "DmTHn4BmYUQ_",
        "outputId": "40266ee6-b7bd-4fb8-b01e-c67bb3778f61"
      },
      "outputs": [
        {
          "output_type": "stream",
          "name": "stdout",
          "text": [
            "Looking in indexes: https://pypi.org/simple, https://us-python.pkg.dev/colab-wheels/public/simple/\n",
            "Collecting graphene\n",
            "  Downloading graphene-3.2.2-py2.py3-none-any.whl (125 kB)\n",
            "\u001b[2K     \u001b[90m━━━━━━━━━━━━━━━━━━━━━━━━━━━━━━━━━━━━━━\u001b[0m \u001b[32m125.6/125.6 kB\u001b[0m \u001b[31m11.7 MB/s\u001b[0m eta \u001b[36m0:00:00\u001b[0m\n",
            "\u001b[?25hCollecting aniso8601<10,>=8\n",
            "  Downloading aniso8601-9.0.1-py2.py3-none-any.whl (52 kB)\n",
            "\u001b[2K     \u001b[90m━━━━━━━━━━━━━━━━━━━━━━━━━━━━━━━━━━━━━━━━\u001b[0m \u001b[32m52.8/52.8 kB\u001b[0m \u001b[31m5.7 MB/s\u001b[0m eta \u001b[36m0:00:00\u001b[0m\n",
            "\u001b[?25hCollecting graphql-relay<3.3,>=3.1\n",
            "  Downloading graphql_relay-3.2.0-py3-none-any.whl (16 kB)\n",
            "Collecting graphql-core<3.3,>=3.1\n",
            "  Downloading graphql_core-3.2.3-py3-none-any.whl (202 kB)\n",
            "\u001b[2K     \u001b[90m━━━━━━━━━━━━━━━━━━━━━━━━━━━━━━━━━━━━━━\u001b[0m \u001b[32m202.9/202.9 kB\u001b[0m \u001b[31m23.3 MB/s\u001b[0m eta \u001b[36m0:00:00\u001b[0m\n",
            "\u001b[?25hInstalling collected packages: aniso8601, graphql-core, graphql-relay, graphene\n",
            "Successfully installed aniso8601-9.0.1 graphene-3.2.2 graphql-core-3.2.3 graphql-relay-3.2.0\n"
          ]
        }
      ],
      "source": [
        "# GraphQL\n",
        "!pip install graphene"
      ]
    },
    {
      "cell_type": "code",
      "source": [
        "# import graphene\n",
        "import graphene"
      ],
      "metadata": {
        "id": "ZuYkoIKkbeRq"
      },
      "execution_count": 6,
      "outputs": []
    },
    {
      "cell_type": "code",
      "source": [
        "# import ObjectType, String, and Schema\n",
        "from graphene import ObjectType, String, Schema"
      ],
      "metadata": {
        "id": "My8S3b6Kbl25"
      },
      "execution_count": 7,
      "outputs": []
    },
    {
      "cell_type": "code",
      "source": [
        "class Query(ObjectType):\n",
        "    hello = String(name=String(default_value=\"World\"))\n",
        "\n",
        "    def resolve_hello(self, info, name):\n",
        "        return f\"Hello, {name}!\"\n"
      ],
      "metadata": {
        "id": "m3jt7lepb4BL"
      },
      "execution_count": 8,
      "outputs": []
    },
    {
      "cell_type": "code",
      "source": [
        "schema = Schema(query=Query)"
      ],
      "metadata": {
        "id": "UzIjY4ktb-th"
      },
      "execution_count": 10,
      "outputs": []
    },
    {
      "cell_type": "code",
      "source": [
        "# test the query\n",
        "query_string = '{ hello }'\n",
        "result = schema.execute(query_string)\n",
        "\n",
        "print(result.data['hello']) # prints \"Hello, World!\""
      ],
      "metadata": {
        "colab": {
          "base_uri": "https://localhost:8080/"
        },
        "id": "f53QWEe8cCXk",
        "outputId": "3eeca6c1-5d49-46c2-a4fb-c5370ad3cb17"
      },
      "execution_count": 11,
      "outputs": [
        {
          "output_type": "stream",
          "name": "stdout",
          "text": [
            "Hello, World!\n"
          ]
        }
      ]
    }
  ]
}